{
 "cells": [
  {
   "metadata": {
    "ExecuteTime": {
     "end_time": "2024-11-04T12:13:33.541Z",
     "start_time": "2024-11-04T12:13:33.505254Z"
    }
   },
   "cell_type": "code",
   "source": [
    "import pandas as pd\n",
    "import ast\n",
    "df = pd.read_csv('./extract/data/dataframe.csv', sep=';')"
   ],
   "id": "8586f98293ffe788",
   "outputs": [],
   "execution_count": 12
  },
  {
   "metadata": {
    "ExecuteTime": {
     "end_time": "2024-11-04T12:13:33.557242Z",
     "start_time": "2024-11-04T12:13:33.551583Z"
    }
   },
   "cell_type": "code",
   "source": [
    "def process_subjects(subject):\n",
    "    subject = str(subject)\n",
    "    try:\n",
    "        subject_list = list(str)\n",
    "        if isinstance(subject_list, list):\n",
    "            return subject_list\n",
    "    except (ValueError, SyntaxError):\n",
    "        if \";\" in subject:\n",
    "            return [t.strip() for t in subject.split(';')]\n",
    "        # Caso contrário, retorna como lista com único tema\n",
    "        return [subject.strip()]"
   ],
   "id": "c9ed55b43b26c5da",
   "outputs": [],
   "execution_count": 13
  },
  {
   "metadata": {
    "ExecuteTime": {
     "end_time": "2024-11-04T12:15:39.820532Z",
     "start_time": "2024-11-04T12:15:39.800268Z"
    }
   },
   "cell_type": "code",
   "source": [
    "advisors_and_subject = df[['dc.contributor.advisor', 'dc.subject']]\n",
    "df['dc.subject'] = df['dc.subject'].apply(process_subjects)\n",
    "advisors_and_subject_explode = advisors_and_subject.explode('dc.subject')"
   ],
   "id": "e2ba7d4c77a5a170",
   "outputs": [],
   "execution_count": 16
  },
  {
   "metadata": {
    "ExecuteTime": {
     "end_time": "2024-11-04T12:15:43.904952Z",
     "start_time": "2024-11-04T12:15:43.890481Z"
    }
   },
   "cell_type": "code",
   "source": "advisors_and_subject_explode",
   "id": "7c21371f298d98b8",
   "outputs": [
    {
     "data": {
      "text/plain": [
       "                    dc.contributor.advisor  \\\n",
       "0               Esteves, Paulo Cesar Leite   \n",
       "1           Perez, Anderson Luiz Fernandes   \n",
       "2                  Silva, Solange Maria da   \n",
       "3           Perez, Anderson Luiz Fernandes   \n",
       "4            Gonçalves, Alexandre Leopoldo   \n",
       "..                                     ...   \n",
       "283            Lunardi, Giovani M. Lunardi   \n",
       "284  Moraes, Ricardo Alexandre Reinaldo de   \n",
       "285                                Lunardi   \n",
       "286              Lunardi, Giovani Mendonça   \n",
       "287                 Silva, Juarez Bento da   \n",
       "\n",
       "                                            dc.subject  \n",
       "0    Tecnologias da informação e comunicaçãoFobiasR...  \n",
       "1    Injeção EletrônicaInteligência ArtificialLógic...  \n",
       "2    InovaçãoCapacidade de inovaçãoServiços de tecn...  \n",
       "3    matriz energéticageração de energiaimpacto soc...  \n",
       "4    JurisprudênciaElaboração de defesaBusca semânt...  \n",
       "..                                                 ...  \n",
       "283  marketing digitalmicro e pequenas empresaspres...  \n",
       "284  Redes de computadoresPadrão IEEE 802.11ePadrão...  \n",
       "285  Home OfficeTecnologiaInformação e ComunicaçãoF...  \n",
       "286           redes sociais virtuaisfake newsideologia  \n",
       "287  Laboratórios Remotos, Sistemas de Gerenciament...  \n",
       "\n",
       "[292 rows x 2 columns]"
      ],
      "text/html": [
       "<div>\n",
       "<style scoped>\n",
       "    .dataframe tbody tr th:only-of-type {\n",
       "        vertical-align: middle;\n",
       "    }\n",
       "\n",
       "    .dataframe tbody tr th {\n",
       "        vertical-align: top;\n",
       "    }\n",
       "\n",
       "    .dataframe thead th {\n",
       "        text-align: right;\n",
       "    }\n",
       "</style>\n",
       "<table border=\"1\" class=\"dataframe\">\n",
       "  <thead>\n",
       "    <tr style=\"text-align: right;\">\n",
       "      <th></th>\n",
       "      <th>dc.contributor.advisor</th>\n",
       "      <th>dc.subject</th>\n",
       "    </tr>\n",
       "  </thead>\n",
       "  <tbody>\n",
       "    <tr>\n",
       "      <th>0</th>\n",
       "      <td>Esteves, Paulo Cesar Leite</td>\n",
       "      <td>Tecnologias da informação e comunicaçãoFobiasR...</td>\n",
       "    </tr>\n",
       "    <tr>\n",
       "      <th>1</th>\n",
       "      <td>Perez, Anderson Luiz Fernandes</td>\n",
       "      <td>Injeção EletrônicaInteligência ArtificialLógic...</td>\n",
       "    </tr>\n",
       "    <tr>\n",
       "      <th>2</th>\n",
       "      <td>Silva, Solange Maria da</td>\n",
       "      <td>InovaçãoCapacidade de inovaçãoServiços de tecn...</td>\n",
       "    </tr>\n",
       "    <tr>\n",
       "      <th>3</th>\n",
       "      <td>Perez, Anderson Luiz Fernandes</td>\n",
       "      <td>matriz energéticageração de energiaimpacto soc...</td>\n",
       "    </tr>\n",
       "    <tr>\n",
       "      <th>4</th>\n",
       "      <td>Gonçalves, Alexandre Leopoldo</td>\n",
       "      <td>JurisprudênciaElaboração de defesaBusca semânt...</td>\n",
       "    </tr>\n",
       "    <tr>\n",
       "      <th>...</th>\n",
       "      <td>...</td>\n",
       "      <td>...</td>\n",
       "    </tr>\n",
       "    <tr>\n",
       "      <th>283</th>\n",
       "      <td>Lunardi, Giovani M. Lunardi</td>\n",
       "      <td>marketing digitalmicro e pequenas empresaspres...</td>\n",
       "    </tr>\n",
       "    <tr>\n",
       "      <th>284</th>\n",
       "      <td>Moraes, Ricardo Alexandre Reinaldo de</td>\n",
       "      <td>Redes de computadoresPadrão IEEE 802.11ePadrão...</td>\n",
       "    </tr>\n",
       "    <tr>\n",
       "      <th>285</th>\n",
       "      <td>Lunardi</td>\n",
       "      <td>Home OfficeTecnologiaInformação e ComunicaçãoF...</td>\n",
       "    </tr>\n",
       "    <tr>\n",
       "      <th>286</th>\n",
       "      <td>Lunardi, Giovani Mendonça</td>\n",
       "      <td>redes sociais virtuaisfake newsideologia</td>\n",
       "    </tr>\n",
       "    <tr>\n",
       "      <th>287</th>\n",
       "      <td>Silva, Juarez Bento da</td>\n",
       "      <td>Laboratórios Remotos, Sistemas de Gerenciament...</td>\n",
       "    </tr>\n",
       "  </tbody>\n",
       "</table>\n",
       "<p>292 rows × 2 columns</p>\n",
       "</div>"
      ]
     },
     "execution_count": 17,
     "metadata": {},
     "output_type": "execute_result"
    }
   ],
   "execution_count": 17
  }
 ],
 "metadata": {
  "kernelspec": {
   "display_name": "Python 3",
   "language": "python",
   "name": "python3"
  },
  "language_info": {
   "codemirror_mode": {
    "name": "ipython",
    "version": 2
   },
   "file_extension": ".py",
   "mimetype": "text/x-python",
   "name": "python",
   "nbconvert_exporter": "python",
   "pygments_lexer": "ipython2",
   "version": "2.7.6"
  }
 },
 "nbformat": 4,
 "nbformat_minor": 5
}
